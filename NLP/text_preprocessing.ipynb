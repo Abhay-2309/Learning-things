{
 "cells": [
  {
   "cell_type": "code",
   "execution_count": 37,
   "id": "0d2a490e",
   "metadata": {},
   "outputs": [
    {
     "data": {
      "text/plain": [
       "0      Four misfits find themselves struggling with o...\n",
       "1      Plagued by a violent recurring nightmare, coll...\n",
       "2                                                    NaN\n",
       "3      Levon Cade left behind a decorated military ca...\n",
       "4      Following the benevolent King's disappearance,...\n",
       "                             ...                        \n",
       "195    When intelligence agent Kathryn Woodhouse is s...\n",
       "196    Lorraine and Ed Warren travel to north London ...\n",
       "197    Tessa Young is a dedicated student, dutiful da...\n",
       "198    An Interpol agent hunting the head of a global...\n",
       "199    One man's campaign for vengeance takes on nati...\n",
       "Name: description, Length: 200, dtype: object"
      ]
     },
     "execution_count": 37,
     "metadata": {},
     "output_type": "execute_result"
    }
   ],
   "source": [
    "import pandas as pd\n",
    "\n",
    "df = pd.read_csv(\"movies_dataset.csv\")\n",
    "df['description']\n",
    "\n"
   ]
  },
  {
   "cell_type": "code",
   "execution_count": 12,
   "id": "f52afe5e",
   "metadata": {},
   "outputs": [
    {
     "data": {
      "text/plain": [
       "0      four misfits find themselves struggling with o...\n",
       "1      plagued by a violent recurring nightmare, coll...\n",
       "2                                                    nan\n",
       "3      levon cade left behind a decorated military ca...\n",
       "4      following the benevolent king's disappearance,...\n",
       "                             ...                        \n",
       "195    when intelligence agent kathryn woodhouse is s...\n",
       "196    lorraine and ed warren travel to north london ...\n",
       "197    tessa young is a dedicated student, dutiful da...\n",
       "198    an interpol agent hunting the head of a global...\n",
       "199    one man's campaign for vengeance takes on nati...\n",
       "Name: description, Length: 200, dtype: object"
      ]
     },
     "execution_count": 12,
     "metadata": {},
     "output_type": "execute_result"
    }
   ],
   "source": [
    "# to lower case the word\n",
    "df['description'] = df['description'].astype(str).str.lower()\n",
    "df['description']\n",
    "\n"
   ]
  },
  {
   "cell_type": "code",
   "execution_count": 13,
   "id": "c2a5d853",
   "metadata": {},
   "outputs": [],
   "source": [
    "# remove html tags\n",
    "import re\n",
    "\n",
    "def remove_html_tags(text):\n",
    "    clean = re.compile('<.*?>')\n",
    "    return re.sub(clean, '', text)\n",
    "\n",
    "df['description'] = df['description'].astype(str).apply(remove_html_tags)\n"
   ]
  },
  {
   "cell_type": "code",
   "execution_count": null,
   "id": "be12fa42",
   "metadata": {},
   "outputs": [
    {
     "data": {
      "text/plain": [
       "'!\"#$%&\\'()*+,-./:;<=>?@[\\\\]^_`{|}~'"
      ]
     },
     "execution_count": 16,
     "metadata": {},
     "output_type": "execute_result"
    }
   ],
   "source": [
    "import string\n",
    "exclude = string.punctuation\n"
   ]
  },
  {
   "cell_type": "code",
   "execution_count": 17,
   "id": "8f3e58a4",
   "metadata": {},
   "outputs": [],
   "source": [
    "def remove_puc(text):\n",
    "    for char in exclude:\n",
    "        text = text.replace(char,'')\n",
    "    return text"
   ]
  },
  {
   "cell_type": "code",
   "execution_count": 22,
   "id": "34d36547",
   "metadata": {},
   "outputs": [
    {
     "name": "stdout",
     "output_type": "stream",
     "text": [
      "0.007912635803222656\n"
     ]
    }
   ],
   "source": [
    "import time\n",
    "start = time.time()\n",
    "df['description'] = df['description'].astype(str).apply(remove_puc)\n",
    "time1 = time.time()-start\n",
    "print(time1)"
   ]
  },
  {
   "cell_type": "code",
   "execution_count": 19,
   "id": "90a20dce",
   "metadata": {},
   "outputs": [
    {
     "data": {
      "text/plain": [
       "0      four misfits find themselves struggling with o...\n",
       "1      plagued by a violent recurring nightmare colle...\n",
       "2                                                    nan\n",
       "3      levon cade left behind a decorated military ca...\n",
       "4      following the benevolent kings disappearance t...\n",
       "                             ...                        \n",
       "195    when intelligence agent kathryn woodhouse is s...\n",
       "196    lorraine and ed warren travel to north london ...\n",
       "197    tessa young is a dedicated student dutiful dau...\n",
       "198    an interpol agent hunting the head of a global...\n",
       "199    one mans campaign for vengeance takes on natio...\n",
       "Name: description, Length: 200, dtype: object"
      ]
     },
     "execution_count": 19,
     "metadata": {},
     "output_type": "execute_result"
    }
   ],
   "source": [
    "df['description']"
   ]
  },
  {
   "cell_type": "code",
   "execution_count": 23,
   "id": "67cd7497",
   "metadata": {},
   "outputs": [],
   "source": [
    "def remove_punc1(text):\n",
    "    return text.translate(str.maketrans('','',exclude))\n"
   ]
  },
  {
   "cell_type": "code",
   "execution_count": 25,
   "id": "b5044a0b",
   "metadata": {},
   "outputs": [
    {
     "name": "stdout",
     "output_type": "stream",
     "text": [
      "0.006871938705444336\n"
     ]
    }
   ],
   "source": [
    "import time\n",
    "start = time.time()\n",
    "df['description'] = df['description'].astype(str).apply(remove_puc)\n",
    "time2 = time.time()-start\n",
    "print(time2)"
   ]
  },
  {
   "cell_type": "code",
   "execution_count": 26,
   "id": "4ff3c13d",
   "metadata": {},
   "outputs": [
    {
     "data": {
      "text/plain": [
       "0.5180931894667453"
      ]
     },
     "execution_count": 26,
     "metadata": {},
     "output_type": "execute_result"
    }
   ],
   "source": [
    "time1/time2"
   ]
  },
  {
   "cell_type": "code",
   "execution_count": 29,
   "id": "63d7a268",
   "metadata": {},
   "outputs": [
    {
     "name": "stdout",
     "output_type": "stream",
     "text": [
      "Defaulting to user installation because normal site-packages is not writeable\n",
      "Collecting nltk\n",
      "  Downloading nltk-3.9.1-py3-none-any.whl.metadata (2.9 kB)\n",
      "Requirement already satisfied: click in c:\\users\\victus\\appdata\\roaming\\python\\python311\\site-packages (from nltk) (8.1.8)\n",
      "Collecting joblib (from nltk)\n",
      "  Downloading joblib-1.5.0-py3-none-any.whl.metadata (5.6 kB)\n",
      "Collecting regex>=2021.8.3 (from nltk)\n",
      "  Downloading regex-2024.11.6-cp311-cp311-win_amd64.whl.metadata (41 kB)\n",
      "Requirement already satisfied: tqdm in c:\\users\\victus\\appdata\\roaming\\python\\python311\\site-packages (from nltk) (4.67.1)\n",
      "Requirement already satisfied: colorama in c:\\users\\victus\\appdata\\roaming\\python\\python311\\site-packages (from click->nltk) (0.4.6)\n",
      "Downloading nltk-3.9.1-py3-none-any.whl (1.5 MB)\n",
      "   ---------------------------------------- 0.0/1.5 MB ? eta -:--:--\n",
      "   ---------------------------------------- 0.0/1.5 MB ? eta -:--:--\n",
      "   ---------------------------------------- 0.0/1.5 MB ? eta -:--:--\n",
      "   ------ --------------------------------- 0.3/1.5 MB ? eta -:--:--\n",
      "   ------ --------------------------------- 0.3/1.5 MB ? eta -:--:--\n",
      "   -------------------- ------------------- 0.8/1.5 MB 1.5 MB/s eta 0:00:01\n",
      "   ---------------------------------------- 1.5/1.5 MB 2.2 MB/s eta 0:00:00\n",
      "Downloading regex-2024.11.6-cp311-cp311-win_amd64.whl (274 kB)\n",
      "Downloading joblib-1.5.0-py3-none-any.whl (307 kB)\n",
      "Installing collected packages: regex, joblib, nltk\n",
      "Successfully installed joblib-1.5.0 nltk-3.9.1 regex-2024.11.6\n"
     ]
    },
    {
     "name": "stderr",
     "output_type": "stream",
     "text": [
      "\n",
      "[notice] A new release of pip is available: 25.0.1 -> 25.1.1\n",
      "[notice] To update, run: python.exe -m pip install --upgrade pip\n"
     ]
    }
   ],
   "source": [
    "!pip install nltk\n"
   ]
  },
  {
   "cell_type": "code",
   "execution_count": 30,
   "id": "87fb2e72",
   "metadata": {},
   "outputs": [
    {
     "name": "stderr",
     "output_type": "stream",
     "text": [
      "[nltk_data] Downloading package stopwords to\n",
      "[nltk_data]     C:\\Users\\VICTUS\\AppData\\Roaming\\nltk_data...\n",
      "[nltk_data]   Unzipping corpora\\stopwords.zip.\n"
     ]
    },
    {
     "data": {
      "text/plain": [
       "True"
      ]
     },
     "execution_count": 30,
     "metadata": {},
     "output_type": "execute_result"
    }
   ],
   "source": [
    "import nltk\n",
    "nltk.download('stopwords')\n"
   ]
  },
  {
   "cell_type": "code",
   "execution_count": null,
   "id": "f5571df4",
   "metadata": {},
   "outputs": [
    {
     "name": "stdout",
     "output_type": "stream",
     "text": [
      "True\n",
      "[('a', True), ('about', True), ('above', True), ('after', True), ('again', True), ('against', True), ('ain', True), ('all', True), ('am', True), ('an', True)]\n"
     ]
    },
    {
     "name": "stderr",
     "output_type": "stream",
     "text": [
      "[nltk_data] Downloading package stopwords to\n",
      "[nltk_data]     C:\\Users\\VICTUS\\AppData\\Roaming\\nltk_data...\n",
      "[nltk_data]   Package stopwords is already up-to-date!\n"
     ]
    }
   ],
   "source": [
    "import nltk\n",
    "from nltk.corpus import stopwords\n",
    "\n",
    "# Make sure stopwords are downloaded\n",
    "nltk.download('stopwords')\n",
    "\n",
    "# Get the list of English stopwords\n",
    "stopword_list = stopwords.words('english')\n",
    "\n",
    "# Convert list to dictionary where key=stopword, value=True\n",
    "stopword_dict = {word: True for word in stopword_list}\n",
    "\n",
    "# Example: Check if 'the' is a stopword\n",
    "print('the' in stopword_dict)  # True\n",
    "\n"
   ]
  },
  {
   "cell_type": "code",
   "execution_count": 42,
   "id": "83c13feb",
   "metadata": {},
   "outputs": [
    {
     "name": "stderr",
     "output_type": "stream",
     "text": [
      "[nltk_data] Downloading package stopwords to\n",
      "[nltk_data]     C:\\Users\\VICTUS\\AppData\\Roaming\\nltk_data...\n",
      "[nltk_data]   Package stopwords is already up-to-date!\n"
     ]
    }
   ],
   "source": [
    "import nltk\n",
    "from nltk.corpus import stopwords\n",
    "import pandas as pd\n",
    "\n",
    "# Download stopwords if not already downloaded\n",
    "nltk.download('stopwords')\n",
    "\n",
    "# Get list of English stopwords\n",
    "stopword_list = stopwords.words('english')\n",
    "\n",
    "# Convert list to dictionary for fast lookup\n",
    "stopword_dict = {word: True for word in stopword_list}\n",
    "\n",
    "def chat_conversion(text):\n",
    "    new_text = []\n",
    "    for w in text.split():\n",
    "        if w.lower() not in stopword_dict:\n",
    "            new_text.append(w)\n",
    "    return \" \".join(new_text)\n",
    "# Apply chat_conversion to the 'description' column\n",
    "df['description'] = df['description'].astype(str).apply(chat_conversion)\n",
    "\n"
   ]
  },
  {
   "cell_type": "code",
   "execution_count": 43,
   "id": "9d4439d3",
   "metadata": {},
   "outputs": [
    {
     "data": {
      "text/plain": [
       "0      Four misfits find struggling ordinary problems...\n",
       "1      Plagued violent recurring nightmare, college s...\n",
       "2                                                    nan\n",
       "3      Levon Cade left behind decorated military care...\n",
       "4      Following benevolent King's disappearance, Evi...\n",
       "                             ...                        \n",
       "195    intelligence agent Kathryn Woodhouse suspected...\n",
       "196    Lorraine Ed Warren travel north London help si...\n",
       "197    Tessa Young dedicated student, dutiful daughte...\n",
       "198    Interpol agent hunting head global crime syndi...\n",
       "199    One man's campaign vengeance takes national st...\n",
       "Name: description, Length: 200, dtype: object"
      ]
     },
     "execution_count": 43,
     "metadata": {},
     "output_type": "execute_result"
    }
   ],
   "source": [
    "df['description']"
   ]
  },
  {
   "cell_type": "code",
   "execution_count": 41,
   "id": "55d28867",
   "metadata": {},
   "outputs": [],
   "source": [
    "df.to_csv('cleaned_movies_dataset.csv', index=False)\n"
   ]
  }
 ],
 "metadata": {
  "kernelspec": {
   "display_name": "Python 3",
   "language": "python",
   "name": "python3"
  },
  "language_info": {
   "codemirror_mode": {
    "name": "ipython",
    "version": 3
   },
   "file_extension": ".py",
   "mimetype": "text/x-python",
   "name": "python",
   "nbconvert_exporter": "python",
   "pygments_lexer": "ipython3",
   "version": "3.11.9"
  }
 },
 "nbformat": 4,
 "nbformat_minor": 5
}
